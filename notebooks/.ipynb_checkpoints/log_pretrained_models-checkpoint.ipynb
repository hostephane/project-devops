{
 "cells": [
  {
   "cell_type": "markdown",
   "metadata": {},
   "source": [
    "# Logging Pretrained Models to MLflow via DagsHub\n",
    "\n",
    "This notebook logs the two pretrained models used in the API:\n",
    "- EasyOCR for Japanese/English OCR\n",
    "- MarianMT (Helsinki-NLP/opus-mt-ja-en) for Japanese to English translation"
   ]
  },
  {
   "cell_type": "code",
   "execution_count": null,
   "metadata": {},
   "outputs": [],
   "source": [
    "!pip install -q mlflow dagshub transformers torch easyocr"
   ]
  },
  {
   "cell_type": "code",
   "execution_count": null,
   "metadata": {},
   "outputs": [],
   "source": [
    "import mlflow\n",
    "from dagshub import dagshub_logger\n",
    "from transformers import MarianMTModel, MarianTokenizer\n",
    "import easyocr\n",
    "import os"
   ]
  },
  {
   "cell_type": "code",
   "execution_count": null,
   "metadata": {},
   "outputs": [],
   "source": [
    "# ✅ Initialiser la connexion à DagsHub (remplace par ton repo si besoin)\n",
    "mlflow.set_tracking_uri(\"https://dagshub.com/hostephane/ML.mlflow\")\n",
    "mlflow.set_experiment(\"ocr_translation_baseline\")"
   ]
  },
  {
   "cell_type": "code",
   "execution_count": null,
   "metadata": {},
   "outputs": [],
   "source": [
    "with mlflow.start_run(run_name=\"log_pretrained_models\"):\n",
    "    mlflow.set_tags({\n",
    "        \"project\": \"ocr-manga-translator\",\n",
    "        \"type\": \"pretrained\",\n",
    "        \"stage\": \"baseline\"\n",
    "    })\n",
    "\n",
    "    # === Log EasyOCR ===\n",
    "    print(\"Loading EasyOCR reader...\")\n",
    "    reader = easyocr.Reader(['ja', 'en'])\n",
    "    dummy_model_path = \"easyocr_dummy.txt\"\n",
    "    with open(dummy_model_path, \"w\") as f:\n",
    "        f.write(\"EasyOCR model is loaded dynamically; no static file to log.\")\n",
    "    mlflow.log_artifact(dummy_model_path, artifact_path=\"easyocr\")\n",
    "    os.remove(dummy_model_path)\n",
    "\n",
    "    # === Log MarianMT Model ===\n",
    "    print(\"Downloading MarianMT model and tokenizer...\")\n",
    "    model = MarianMTModel.from_pretrained(\"Helsinki-NLP/opus-mt-ja-en\")\n",
    "    tokenizer = MarianTokenizer.from_pretrained(\"Helsinki-NLP/opus-mt-ja-en\")\n",
    "\n",
    "    print(\"Saving Marian model locally...\")\n",
    "    model_path = \"marian_mt_model\"\n",
    "    model.save_pretrained(model_path)\n",
    "    tokenizer.save_pretrained(model_path)\n",
    "\n",
    "    mlflow.log_artifacts(model_path, artifact_path=\"marian_mt\")\n",
    "\n",
    "    print(\"✅ Models logged to MLflow\")"
   ]
  }
 ],
 "metadata": {
  "kernelspec": {
   "display_name": "Python 3",
   "language": "python",
   "name": "python3"
  },
  "language_info": {
   "name": "python",
   "version": ""
  }
 },
 "nbformat": 4,
 "nbformat_minor": 2
}
