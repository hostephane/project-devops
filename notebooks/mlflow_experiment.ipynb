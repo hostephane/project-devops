{
 "cells": [
  {
   "cell_type": "code",
   "execution_count": null,
   "id": "1e07d6f9",
   "metadata": {
    "vscode": {
     "languageId": "plaintext"
    }
   },
   "outputs": [],
   "source": [
    "# mlflow_experiment.ipynb\n",
    "\n",
    "import mlflow\n",
    "import mlflow.pyfunc\n",
    "from transformers import MarianMTModel, MarianTokenizer\n",
    "\n",
    "# Charger le modèle\n",
    "model_name = \"Helsinki-NLP/opus-mt-ja-en\"\n",
    "tokenizer = MarianTokenizer.from_pretrained(model_name)\n",
    "model = MarianMTModel.from_pretrained(model_name)\n",
    "\n",
    "# Wrapper pour MLflow\n",
    "class TranslationModel(mlflow.pyfunc.PythonModel):\n",
    "    def load_context(self, context):\n",
    "        self.tokenizer = tokenizer\n",
    "        self.model = model\n",
    "\n",
    "    def predict(self, context, model_input):\n",
    "        inputs = self.tokenizer([model_input], return_tensors=\"pt\", truncation=True, padding=True)\n",
    "        outputs = self.model.generate(**inputs)\n",
    "        return self.tokenizer.decode(outputs[0], skip_special_tokens=True)\n",
    "\n",
    "# Dossier de sauvegarde local\n",
    "mlflow.set_experiment(\"translation-ja-en\")\n",
    "\n",
    "with mlflow.start_run():\n",
    "    mlflow.pyfunc.log_model(\n",
    "        artifact_path=\"model\",\n",
    "        python_model=TranslationModel()\n",
    "    )\n"
   ]
  }
 ],
 "metadata": {
  "language_info": {
   "name": "python"
  }
 },
 "nbformat": 4,
 "nbformat_minor": 5
}
